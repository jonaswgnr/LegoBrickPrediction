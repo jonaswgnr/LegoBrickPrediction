{
 "cells": [
  {
   "cell_type": "code",
   "execution_count": 5,
   "metadata": {},
   "outputs": [],
   "source": [
    "import os\n",
    "import cv2\n",
    "from PIL import Image\n",
    "import numpy as np\n",
    "import pandas as pd\n",
    "import random\n",
    "import matplotlib.pyplot as plt\n",
    "\n"
   ]
  },
  {
   "cell_type": "code",
   "execution_count": 1,
   "metadata": {},
   "outputs": [
    {
     "name": "stderr",
     "output_type": "stream",
     "text": [
      "Using TensorFlow backend.\n"
     ]
    }
   ],
   "source": [
    "from keras import *\n",
    "\n",
    "# image processing\n",
    "from keras.preprocessing import image as image_utils\n",
    "from keras.preprocessing.image import img_to_array\n",
    "\n",
    "# build your own nets\n",
    "from keras.preprocessing.image import ImageDataGenerator\n",
    "from keras.models import Sequential\n",
    "from keras.layers import Dense, Dropout, Activation, Flatten, Conv2D, MaxPooling2D\n",
    "from keras.optimizers import RMSprop\n",
    "from keras.layers.normalization import BatchNormalization\n",
    "from keras.layers.advanced_activations import LeakyReLU\n",
    "\n"
   ]
  },
  {
   "cell_type": "code",
   "execution_count": 7,
   "metadata": {},
   "outputs": [],
   "source": [
    "train_image_files_path = \"Data/brickImages/train\"\n",
    "valid_image_files_path = \"Data/brickImages/valid\""
   ]
  },
  {
   "cell_type": "code",
   "execution_count": 3,
   "metadata": {},
   "outputs": [
    {
     "name": "stdout",
     "output_type": "stream",
     "text": [
      "11214 Bush 3M friction with Cross axle\n"
     ]
    }
   ],
   "source": [
    "brick_list = [ '11214 Bush 3M friction with Cross axle','3004 Brick 1x2','3024 Plate 1x1','3673 Peg 2M', \n",
    "              '18651 Cross Axle 2M with Snap friction','3005 Brick 1x1','3040 Roof Tile 1x2x45deg','3713 Bush for Cross Axle',\n",
    "              '2357 Brick corner 1x2x2','3022 Plate 2x2','3069 Flat Tile 1x2','3794 Plate 1X2 with 1 Knob','3003 Brick 2x2',\n",
    "              '3023 Plate 1x2','32123 half Bush','6632 Technic Lever 3M' ]\n",
    "\n",
    "print(brick_list[0])\n"
   ]
  },
  {
   "cell_type": "code",
   "execution_count": 15,
   "metadata": {},
   "outputs": [
    {
     "name": "stdout",
     "output_type": "stream",
     "text": [
      "Found 6379 images belonging to 16 classes.\n",
      "Found 6379 images belonging to 16 classes.\n"
     ]
    }
   ],
   "source": [
    "im = Image.open(train_image_files_path + \"/\" + brick_list[0] + \"/201706171006-0001.png\")\n",
    "img_width, img_height = im.size\n",
    "\n",
    "output_n = len(brick_list)\n",
    "size = 50\n",
    "channels = 3\n",
    "batch_size = 16\n",
    "\n",
    "train_data_gen = ImageDataGenerator(\n",
    "    rescale = 1 / 255,\n",
    "    rotation_range = 40,\n",
    ")\n",
    "\n",
    "valid_data_gen = ImageDataGenerator(\n",
    "    # validation data shouldn't be augmented\n",
    "    rescale = 1 / 255\n",
    ")\n",
    "\n",
    "train_image_array_gen = train_data_gen.flow_from_directory(\n",
    "    train_image_files_path,\n",
    "    target_size = (img_width, img_height),\n",
    "    class_mode = 'categorical',\n",
    "    classes = brick_list,\n",
    "    color_mode = 'rgb', \n",
    "    batch_size = batch_size,\n",
    "    seed = 42)\n",
    "\n",
    "valid_image_array_gen = valid_data_gen.flow_from_directory(\n",
    "    valid_image_files_path,\n",
    "    target_size = (img_width, img_height),\n",
    "    class_mode = 'categorical',\n",
    "    classes = brick_list,\n",
    "    color_mode = 'rgb', \n",
    "    batch_size = batch_size,\n",
    "    seed = 42)"
   ]
  },
  {
   "cell_type": "code",
   "execution_count": 17,
   "metadata": {},
   "outputs": [
    {
     "name": "stdout",
     "output_type": "stream",
     "text": [
      "(6379, 6379)\n",
      "Model: \"sequential_2\"\n",
      "_________________________________________________________________\n",
      "Layer (type)                 Output Shape              Param #   \n",
      "=================================================================\n",
      "conv2d_4 (Conv2D)            (None, 198, 198, 64)      1792      \n",
      "_________________________________________________________________\n",
      "batch_normalization_4 (Batch (None, 198, 198, 64)      256       \n",
      "_________________________________________________________________\n",
      "activation_4 (Activation)    (None, 198, 198, 64)      0         \n",
      "_________________________________________________________________\n",
      "conv2d_5 (Conv2D)            (None, 198, 198, 32)      18464     \n",
      "_________________________________________________________________\n",
      "batch_normalization_5 (Batch (None, 198, 198, 32)      128       \n",
      "_________________________________________________________________\n",
      "leaky_re_lu_3 (LeakyReLU)    (None, 198, 198, 32)      0         \n",
      "_________________________________________________________________\n",
      "conv2d_6 (Conv2D)            (None, 198, 198, 16)      4624      \n",
      "_________________________________________________________________\n",
      "batch_normalization_6 (Batch (None, 198, 198, 16)      64        \n",
      "_________________________________________________________________\n",
      "leaky_re_lu_4 (LeakyReLU)    (None, 198, 198, 16)      0         \n",
      "_________________________________________________________________\n",
      "max_pooling2d_2 (MaxPooling2 (None, 99, 99, 16)        0         \n",
      "_________________________________________________________________\n",
      "dropout_3 (Dropout)          (None, 99, 99, 16)        0         \n",
      "_________________________________________________________________\n",
      "flatten_2 (Flatten)          (None, 156816)            0         \n",
      "_________________________________________________________________\n",
      "dense_3 (Dense)              (None, 512)               80290304  \n",
      "_________________________________________________________________\n",
      "activation_5 (Activation)    (None, 512)               0         \n",
      "_________________________________________________________________\n",
      "dropout_4 (Dropout)          (None, 512)               0         \n",
      "_________________________________________________________________\n",
      "dense_4 (Dense)              (None, 16)                8208      \n",
      "_________________________________________________________________\n",
      "activation_6 (Activation)    (None, 16)                0         \n",
      "=================================================================\n",
      "Total params: 80,323,840\n",
      "Trainable params: 80,323,616\n",
      "Non-trainable params: 224\n",
      "_________________________________________________________________\n",
      "None\n"
     ]
    }
   ],
   "source": [
    "epochs = 3\n",
    "train_samples = train_image_array_gen.n\n",
    "valid_samples = valid_image_array_gen.n\n",
    "print(train_samples, valid_samples)\n",
    "\n",
    "model = Sequential()\n",
    "\n",
    "model.add(Conv2D(64, (3, 3), padding = \"valid\", input_shape = (img_width, img_height, channels)))\n",
    "model.add(BatchNormalization())\n",
    "model.add(Activation('relu'))\n",
    "\n",
    "model.add(Conv2D(32, (3, 3), padding = \"same\"))\n",
    "model.add(BatchNormalization())\n",
    "model.add(LeakyReLU(alpha = 0.5))\n",
    "\n",
    "model.add(Conv2D(16, (3, 3), padding = \"same\"))\n",
    "model.add(BatchNormalization())\n",
    "model.add(LeakyReLU(alpha = 0.5))\n",
    "\n",
    "model.add(MaxPooling2D(pool_size = (2,2)))\n",
    "model.add(Dropout(0.125))\n",
    "\n",
    "model.add(Flatten())\n",
    "model.add(Dense(512))\n",
    "model.add(Activation('relu'))\n",
    "model.add(Dropout(0.5))\n",
    "\n",
    "model.add(Dense(output_n))\n",
    "model.add(Activation('softmax'))\n",
    "\n",
    "print(model.summary())"
   ]
  },
  {
   "cell_type": "code",
   "execution_count": 18,
   "metadata": {},
   "outputs": [],
   "source": [
    "model.compile(loss = 'categorical_crossentropy', \n",
    "              optimizer = RMSprop(lr = 0.0001, decay = 1e-6),\n",
    "              metrics = ['accuracy'])"
   ]
  },
  {
   "cell_type": "code",
   "execution_count": null,
   "metadata": {},
   "outputs": [
    {
     "name": "stdout",
     "output_type": "stream",
     "text": [
      "Epoch 1/3\n",
      "  4/398 [..............................] - ETA: 3:35:10 - loss: 10.4571 - acc: 0.1875"
     ]
    }
   ],
   "source": [
    "history = model.fit_generator(\n",
    "    train_image_array_gen,\n",
    "    steps_per_epoch = int(train_samples / batch_size), \n",
    "    epochs = epochs, \n",
    "    validation_data = valid_image_array_gen,\n",
    "    validation_steps = int(valid_samples / batch_size),\n",
    "    verbose = 1\n",
    ")"
   ]
  },
  {
   "cell_type": "code",
   "execution_count": null,
   "metadata": {},
   "outputs": [],
   "source": [
    "!wget data:image/webp;base64,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\n"
   ]
  }
 ],
 "metadata": {
  "kernelspec": {
   "display_name": "Python 3",
   "language": "python",
   "name": "python3"
  },
  "language_info": {
   "codemirror_mode": {
    "name": "ipython",
    "version": 2
   },
   "file_extension": ".py",
   "mimetype": "text/x-python",
   "name": "python",
   "nbconvert_exporter": "python",
   "pygments_lexer": "ipython2",
   "version": "2.7.15+"
  }
 },
 "nbformat": 4,
 "nbformat_minor": 2
}
